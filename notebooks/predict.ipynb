{
 "cells": [
  {
   "cell_type": "markdown",
   "metadata": {},
   "source": [
    "### Framework imports"
   ]
  },
  {
   "cell_type": "code",
   "execution_count": null,
   "metadata": {},
   "outputs": [],
   "source": [
    "from noronha.tools.serving import OnlinePredict\n",
    "from noronha.tools.shortcuts import model_path"
   ]
  },
  {
   "cell_type": "markdown",
   "metadata": {},
   "source": [
    "### Application imports"
   ]
  },
  {
   "cell_type": "code",
   "execution_count": 19,
   "metadata": {},
   "outputs": [],
   "source": [
    "import json\n",
    "import numpy as np\n",
    "import joblib\n",
    "\n",
    "from transformers import AutoTokenizer\n",
    "import torch"
   ]
  },
  {
   "cell_type": "markdown",
   "metadata": {},
   "source": [
    "### Loading the model"
   ]
  },
  {
   "cell_type": "code",
   "execution_count": null,
   "metadata": {},
   "outputs": [],
   "source": [
    "clf_path = model_path('model.pkl')\n",
    "clf = joblib.load(clf_path)"
   ]
  },
  {
   "cell_type": "markdown",
   "metadata": {},
   "source": [
    "### Defining the prediction function"
   ]
  },
  {
   "cell_type": "code",
   "execution_count": null,
   "metadata": {},
   "outputs": [],
   "source": [
    "model_id = \"albert-base-v2\"\n",
    "tokenizer = AutoTokenizer.from_pretrained(model_id)\n",
    "\n",
    "label_names = ['atis_flight',          \n",
    "'atis_airfare',\n",
    "'atis_ground_service',\n",
    "'atis_airline',\n",
    "'atis_abbreviation',\n",
    "'atis_aircraft',\n",
    "'atis_flight_time',\n",
    "'atis_quantity',\n",
    "'atis_airport',\n",
    "'atis_distance',\n",
    "'atis_city',\n",
    "'atis_ground_fare',\n",
    "'atis_capacity',\n",
    "'atis_flight_no',\n",
    "'atis_meal',\n",
    "'atis_restriction',\n",
    "'atis_cheapest']\n",
    "\n",
    "def recognize_intent(input_text):\n",
    "    # detaching input\n",
    "    input_text = json.loads(input_text)\n",
    "    \n",
    "    # tokenize the input \n",
    "    input_ids = torch.tensor(tokenizer.encode(input_text, add_special_tokens=True)).unsqueeze(0)\n",
    "\n",
    "    # get the prediction\n",
    "    with torch.no_grad():\n",
    "        outputs = clf(input_ids)\n",
    "        predictions = torch.argmax(outputs.logits, dim=1)\n",
    "    \n",
    "    return label_names[predictions]\n"
   ]
  },
  {
   "cell_type": "markdown",
   "metadata": {},
   "source": [
    "### Creating the prediction service"
   ]
  },
  {
   "cell_type": "code",
   "execution_count": null,
   "metadata": {},
   "outputs": [],
   "source": [
    "OnlinePredict(predict_func=recognize_intent)()"
   ]
  }
 ],
 "metadata": {
  "kernelspec": {
   "display_name": "base",
   "language": "python",
   "name": "python3"
  },
  "language_info": {
   "codemirror_mode": {
    "name": "ipython",
    "version": 3
   },
   "file_extension": ".py",
   "mimetype": "text/x-python",
   "name": "python",
   "nbconvert_exporter": "python",
   "pygments_lexer": "ipython3",
   "version": "3.9.13"
  },
  "vscode": {
   "interpreter": {
    "hash": "b19694c2477b6961a9baaea990607e8a5bdfd660487bf673882fbc4439b85657"
   }
  }
 },
 "nbformat": 4,
 "nbformat_minor": 1
}
